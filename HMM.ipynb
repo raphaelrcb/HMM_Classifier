{
 "cells": [
  {
   "cell_type": "markdown",
   "metadata": {},
   "source": [
    "# Loading Data \n",
    "\n",
    "Para o experimentos foram escolhidos XXX movimentos que foram coletados da seguinte maneira:\n",
    "\n",
    "Para cada postura de mão, o \"subject\" realizou cada movimento durante 5s por vez, com um intervalo de outros 5s para repouso, para um total de 10 repetições de cada gesto. Dessa forma, obtém-se 10 amostras de cada gesto de mão, cada uma durando 5 segundos, ou seja, 5000 pontos coletados. \n",
    "\n",
    "O repouso foi coletado de entre alguns dos movimentos.\n",
    "\n",
    "Os movimentos são então separados ein:\n",
    "\n",
    "0. gesture_0: hand resting | gesto 0: mão em repouso:\n",
    "1. gesture_1: close hand   | gesto 1: mão fechada"
   ]
  },
  {
   "cell_type": "code",
   "execution_count": null,
   "metadata": {},
   "outputs": [],
   "source": [
    "import numpy as np\n",
    "import pandas as pd\n",
    "from pandas import read_csv\n",
    "import matplotlib.pyplot as plt\n",
    "import hmmlearn\n",
    "\n",
    "gesture_samples = 2\n",
    "n_gestures = 2\n",
    "file_name = 'https://raw.githubusercontent.com/raphaelrcb/TCC_UnB/raphael_dev/data/gesture_0_1.csv'\n",
    "\n",
    "# rest_hand_series = read_csv(file_name, header=1, usecols = [0,1], index_col = 0)\n",
    "rest_hand_series = []\n",
    "close_hand_series = []\n",
    "\n",
    "for i in range(gesture_samples):\n",
    "    rest_hand_file =    file_name[:len(file_name)-5] + str(i+1) + file_name[len(file_name)-4:]\n",
    "    close_hand_file =   file_name[:len(file_name)-7] + \"1_\" + str(i+1) + file_name[len(file_name)-4:]\n",
    "    # print(rest_hand_file)\n",
    "    rest_hand_series.append(read_csv(file_name, header=1, usecols = [0,1], index_col = 0))\n",
    "    rest_hand_series[i].index = pd.to_datetime(rest_hand_series[i].index, unit = 's', origin= 'unix')\n",
    "    rest_hand_series[i].index = rest_hand_series[i].index.map(lambda t: t.replace(year=2021, month=10, day=31, hour=00))\n",
    "    rest_hand_series[i].index = pd.DatetimeIndex(rest_hand_series[i].index).to_period('L')\n",
    "    # print(close_hand_file)\n",
    "    close_hand_series.append(read_csv(file_name, header=1, usecols = [0,1], index_col = 0))\n",
    "    close_hand_series[i].index = pd.to_datetime(close_hand_series[i].index, unit = 's', origin= 'unix')\n",
    "    close_hand_series[i].index = close_hand_series[i].index.map(lambda t: t.replace(year=2021, month=10, day=31, hour=00))\n",
    "    close_hand_series[i].index = pd.DatetimeIndex(close_hand_series[i].index).to_period('L')\n",
    "\n",
    "# print(rest_hand_series[0].head())"
   ]
  },
  {
   "cell_type": "markdown",
   "metadata": {},
   "source": [
    "# Segmenting Data\n",
    "\n",
    "Como os dados para cada movimento foram coletados em uma única \"rodada\", ou seja, em uma coleta contínua para as 10 observações do gesto, é necessária uma segmentação manual para se separar apenas os 5s necessários de cada observação. Isso é feito offline através do software do delsys.\n",
    "\n",
    "Como cada amostra de movimento dura 5s e é coletado numa freqûencia de 1000Hz, tem-se um total de 5000 pontos de dados, que podem ser divididos em janelas de 150ms com sobreposição de 50ms. Dessa forma, seguindo a fórmula\n",
    "\n",
    "$$\n",
    "N\\; janelas = \\frac{tamanho\\: dos\\,dados - tamanho\\, da\\, janela}{incremento\\, da\\,janela} + 1\n",
    "$$\n",
    "\n",
    "É possível obter um total de 98 janelas por segmento de dado."
   ]
  },
  {
   "cell_type": "code",
   "execution_count": null,
   "metadata": {},
   "outputs": [],
   "source": [
    "data_size = len(close_hand_series[0])\n",
    "window_size = 150\n",
    "window_overlap = 50\n",
    "\n",
    "n_windows = (data_size - window_size)/window_overlap + 1\n",
    "\n",
    "print(n_windows)\n",
    "\n",
    "open_hand_window = []\n",
    "close_hand_window = []\n",
    "\n",
    "# for \n",
    "\n"
   ]
  }
 ],
 "metadata": {
  "interpreter": {
   "hash": "b26c1eb2a810f0c5beda14191808156538a38e59a37c249b4b0171afbb5559fd"
  },
  "kernelspec": {
   "display_name": "Python 3.6.9 64-bit ('venv': venv)",
   "name": "python3"
  },
  "language_info": {
   "codemirror_mode": {
    "name": "ipython",
    "version": 3
   },
   "file_extension": ".py",
   "mimetype": "text/x-python",
   "name": "python",
   "nbconvert_exporter": "python",
   "pygments_lexer": "ipython3",
   "version": "3.6.9"
  },
  "orig_nbformat": 4
 },
 "nbformat": 4,
 "nbformat_minor": 2
}
