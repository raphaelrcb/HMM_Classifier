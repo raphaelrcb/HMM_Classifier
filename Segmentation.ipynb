{
 "cells": [
  {
   "cell_type": "markdown",
   "id": "b9b13cea",
   "metadata": {},
   "source": [
    "# Código para a segmentação de dados de um dataframe\n",
    "\n",
    "O primeiro passo é importar os dados de um arquivo .csv\n",
    "\n",
    "O exemplo usado para isso é o arquivo run8.csv, que possui dados emg medidos, além da alguns dados inerciais. \n",
    "Como, por enquanto, só nos interessa o valor EMG medido, ao se ler o csv, utiliza-se apenas as colunas do tempo de medição, que vai servir como índicie, e do emg medido. \n",
    "\n",
    "Utiliza-se uma frequência de 1000Hz para a coleta dos dados, o que fornece 1 amostra por milissegundo. O tempo total da coleta é feito por 21,6 segundos, totalizando 21600 medições. "
   ]
  },
  {
   "cell_type": "code",
   "execution_count": 1,
   "id": "65b34b27",
   "metadata": {},
   "outputs": [
    {
     "data": {
      "text/html": [
       "<div>\n",
       "<style scoped>\n",
       "    .dataframe tbody tr th:only-of-type {\n",
       "        vertical-align: middle;\n",
       "    }\n",
       "\n",
       "    .dataframe tbody tr th {\n",
       "        vertical-align: top;\n",
       "    }\n",
       "\n",
       "    .dataframe thead th {\n",
       "        text-align: right;\n",
       "    }\n",
       "</style>\n",
       "<table border=\"1\" class=\"dataframe\">\n",
       "  <thead>\n",
       "    <tr style=\"text-align: right;\">\n",
       "      <th></th>\n",
       "      <th>Avanti Sensor 1: EMG 1 [V]</th>\n",
       "    </tr>\n",
       "    <tr>\n",
       "      <th>X [s]</th>\n",
       "      <th></th>\n",
       "    </tr>\n",
       "  </thead>\n",
       "  <tbody>\n",
       "    <tr>\n",
       "      <th>0.000</th>\n",
       "      <td>-0.000817</td>\n",
       "    </tr>\n",
       "    <tr>\n",
       "      <th>0.001</th>\n",
       "      <td>-0.004815</td>\n",
       "    </tr>\n",
       "    <tr>\n",
       "      <th>0.002</th>\n",
       "      <td>-0.008836</td>\n",
       "    </tr>\n",
       "    <tr>\n",
       "      <th>0.003</th>\n",
       "      <td>-0.010983</td>\n",
       "    </tr>\n",
       "    <tr>\n",
       "      <th>0.004</th>\n",
       "      <td>-0.010845</td>\n",
       "    </tr>\n",
       "  </tbody>\n",
       "</table>\n",
       "</div>"
      ],
      "text/plain": [
       "       Avanti Sensor 1: EMG 1 [V]\n",
       "X [s]                            \n",
       "0.000                   -0.000817\n",
       "0.001                   -0.004815\n",
       "0.002                   -0.008836\n",
       "0.003                   -0.010983\n",
       "0.004                   -0.010845"
      ]
     },
     "execution_count": 1,
     "metadata": {},
     "output_type": "execute_result"
    }
   ],
   "source": [
    "import numpy as np\n",
    "import pandas as pd\n",
    "from pandas import read_csv\n",
    "\n",
    "series = read_csv('run6.csv', header=32, usecols = [0,1], index_col = 0)\n",
    "series.head()"
   ]
  },
  {
   "cell_type": "markdown",
   "id": "bb7fe0c2",
   "metadata": {},
   "source": [
    "# Indexação dos dados\n",
    "\n",
    "Ao ler o csv, o framework pandas já converte os dados em um DataFrame. Este DataFrame, como visto acima, utiliza como índice o tempo da medição (em ms) e a colunda de dados é a medição EMG (em Volts). \n",
    "\n",
    "Porém, as funções que vão ser usadas a seguir não entendem os valores do índice na forma que foram lidos, e por isso deve-se fazer uma conversão dos dados para que sejam entendidos"
   ]
  },
  {
   "cell_type": "code",
   "execution_count": 2,
   "id": "6422f8e6",
   "metadata": {},
   "outputs": [
    {
     "data": {
      "text/html": [
       "<div>\n",
       "<style scoped>\n",
       "    .dataframe tbody tr th:only-of-type {\n",
       "        vertical-align: middle;\n",
       "    }\n",
       "\n",
       "    .dataframe tbody tr th {\n",
       "        vertical-align: top;\n",
       "    }\n",
       "\n",
       "    .dataframe thead th {\n",
       "        text-align: right;\n",
       "    }\n",
       "</style>\n",
       "<table border=\"1\" class=\"dataframe\">\n",
       "  <thead>\n",
       "    <tr style=\"text-align: right;\">\n",
       "      <th></th>\n",
       "      <th>Avanti Sensor 1: EMG 1 [V]</th>\n",
       "    </tr>\n",
       "    <tr>\n",
       "      <th>X [s]</th>\n",
       "      <th></th>\n",
       "    </tr>\n",
       "  </thead>\n",
       "  <tbody>\n",
       "    <tr>\n",
       "      <th>2021-10-12 10:00:00.000</th>\n",
       "      <td>-0.000817</td>\n",
       "    </tr>\n",
       "    <tr>\n",
       "      <th>2021-10-12 10:00:00.001</th>\n",
       "      <td>-0.004815</td>\n",
       "    </tr>\n",
       "    <tr>\n",
       "      <th>2021-10-12 10:00:00.002</th>\n",
       "      <td>-0.008836</td>\n",
       "    </tr>\n",
       "    <tr>\n",
       "      <th>2021-10-12 10:00:00.003</th>\n",
       "      <td>-0.010983</td>\n",
       "    </tr>\n",
       "    <tr>\n",
       "      <th>2021-10-12 10:00:00.004</th>\n",
       "      <td>-0.010845</td>\n",
       "    </tr>\n",
       "  </tbody>\n",
       "</table>\n",
       "</div>"
      ],
      "text/plain": [
       "                         Avanti Sensor 1: EMG 1 [V]\n",
       "X [s]                                              \n",
       "2021-10-12 10:00:00.000                   -0.000817\n",
       "2021-10-12 10:00:00.001                   -0.004815\n",
       "2021-10-12 10:00:00.002                   -0.008836\n",
       "2021-10-12 10:00:00.003                   -0.010983\n",
       "2021-10-12 10:00:00.004                   -0.010845"
      ]
     },
     "execution_count": 2,
     "metadata": {},
     "output_type": "execute_result"
    }
   ],
   "source": [
    "series.index = pd.to_datetime(series.index, unit = 's', origin= 'unix')\n",
    "series.index = series.index.map(lambda t: t.replace(year=2021, month=10, day=12, hour=10))\n",
    "series.index = pd.DatetimeIndex(series.index).to_period('L')\n",
    "series.head()"
   ]
  },
  {
   "cell_type": "markdown",
   "id": "e9cd6da8",
   "metadata": {},
   "source": [
    "# Segmentação dos Dados\n",
    "\n",
    "$$\n",
    "N\\; janelas = \\frac{tamanho\\: dos\\,dados - tamanho\\, da\\, janela}{incremento\\, da\\,janela} + 1\n",
    "$$"
   ]
  },
  {
   "cell_type": "code",
   "execution_count": 3,
   "id": "e6ccabe7",
   "metadata": {},
   "outputs": [
    {
     "data": {
      "text/html": [
       "<div>\n",
       "<style scoped>\n",
       "    .dataframe tbody tr th:only-of-type {\n",
       "        vertical-align: middle;\n",
       "    }\n",
       "\n",
       "    .dataframe tbody tr th {\n",
       "        vertical-align: top;\n",
       "    }\n",
       "\n",
       "    .dataframe thead th {\n",
       "        text-align: right;\n",
       "    }\n",
       "</style>\n",
       "<table border=\"1\" class=\"dataframe\">\n",
       "  <thead>\n",
       "    <tr style=\"text-align: right;\">\n",
       "      <th></th>\n",
       "      <th>Avanti Sensor 1: EMG 1 [V]</th>\n",
       "    </tr>\n",
       "    <tr>\n",
       "      <th>X [s]</th>\n",
       "      <th></th>\n",
       "    </tr>\n",
       "  </thead>\n",
       "  <tbody>\n",
       "    <tr>\n",
       "      <th>2021-10-12 10:00:11.400</th>\n",
       "      <td>-0.000021</td>\n",
       "    </tr>\n",
       "    <tr>\n",
       "      <th>2021-10-12 10:00:11.401</th>\n",
       "      <td>-0.000067</td>\n",
       "    </tr>\n",
       "    <tr>\n",
       "      <th>2021-10-12 10:00:11.402</th>\n",
       "      <td>-0.000091</td>\n",
       "    </tr>\n",
       "    <tr>\n",
       "      <th>2021-10-12 10:00:11.403</th>\n",
       "      <td>-0.000079</td>\n",
       "    </tr>\n",
       "    <tr>\n",
       "      <th>2021-10-12 10:00:11.404</th>\n",
       "      <td>-0.000062</td>\n",
       "    </tr>\n",
       "    <tr>\n",
       "      <th>...</th>\n",
       "      <td>...</td>\n",
       "    </tr>\n",
       "    <tr>\n",
       "      <th>2021-10-12 10:00:11.645</th>\n",
       "      <td>-0.000073</td>\n",
       "    </tr>\n",
       "    <tr>\n",
       "      <th>2021-10-12 10:00:11.646</th>\n",
       "      <td>-0.000072</td>\n",
       "    </tr>\n",
       "    <tr>\n",
       "      <th>2021-10-12 10:00:11.647</th>\n",
       "      <td>-0.000070</td>\n",
       "    </tr>\n",
       "    <tr>\n",
       "      <th>2021-10-12 10:00:11.648</th>\n",
       "      <td>-0.000058</td>\n",
       "    </tr>\n",
       "    <tr>\n",
       "      <th>2021-10-12 10:00:11.649</th>\n",
       "      <td>-0.000052</td>\n",
       "    </tr>\n",
       "  </tbody>\n",
       "</table>\n",
       "<p>250 rows × 1 columns</p>\n",
       "</div>"
      ],
      "text/plain": [
       "                         Avanti Sensor 1: EMG 1 [V]\n",
       "X [s]                                              \n",
       "2021-10-12 10:00:11.400                   -0.000021\n",
       "2021-10-12 10:00:11.401                   -0.000067\n",
       "2021-10-12 10:00:11.402                   -0.000091\n",
       "2021-10-12 10:00:11.403                   -0.000079\n",
       "2021-10-12 10:00:11.404                   -0.000062\n",
       "...                                             ...\n",
       "2021-10-12 10:00:11.645                   -0.000073\n",
       "2021-10-12 10:00:11.646                   -0.000072\n",
       "2021-10-12 10:00:11.647                   -0.000070\n",
       "2021-10-12 10:00:11.648                   -0.000058\n",
       "2021-10-12 10:00:11.649                   -0.000052\n",
       "\n",
       "[250 rows x 1 columns]"
      ]
     },
     "execution_count": 3,
     "metadata": {},
     "output_type": "execute_result"
    }
   ],
   "source": [
    "# osw = series.rollling(window = 5, step = 2)\n",
    "# series.rolling(window = 5).\n",
    "data_size = len(series)\n",
    "window_size = 250\n",
    "window_overlap = 50\n",
    "\n",
    "n_windows = (data_size - window_size)/window_overlap + 1\n",
    "\n",
    "# osw = series.copy()\n",
    "# osw2 = osw[1:5]\n",
    "# osw2\n",
    "# print(data_size, window_size, window_overlap, n_windows)\n",
    "osw = []\n",
    "for i in range(int(n_windows)):\n",
    "    osw.append( series[(i*window_overlap):(i*window_overlap + window_size)])\n",
    "\n",
    "osw[228]"
   ]
  },
  {
   "cell_type": "code",
   "execution_count": 4,
   "id": "110037df",
   "metadata": {},
   "outputs": [
    {
     "data": {
      "text/plain": [
       "<matplotlib.legend.Legend at 0x7fde0b6aca60>"
      ]
     },
     "execution_count": 4,
     "metadata": {},
     "output_type": "execute_result"
    },
    {
     "data": {
      "image/png": "[encoded data removed]",
      "text/plain": [
       "<Figure size 432x288 with 1 Axes>"
      ]
     },
     "metadata": {
      "needs_background": "light"
     },
     "output_type": "display_data"
    }
   ],
   "source": [
    "%matplotlib inline\n",
    "from matplotlib import pyplot\n",
    "series.plot()\n",
    "pyplot.legend(['EMG (v)'])"
   ]
  },
  {
   "cell_type": "code",
   "execution_count": null,
   "id": "363ee3b2",
   "metadata": {},
   "outputs": [],
   "source": [
    "%lsmagic"
   ]
  }
 ],
 "metadata": {
  "kernelspec": {
   "display_name": "Python 3",
   "language": "python",
   "name": "python3"
  },
  "language_info": {
   "codemirror_mode": {
    "name": "ipython",
    "version": 3
   },
   "file_extension": ".py",
   "mimetype": "text/x-python",
   "name": "python",
   "nbconvert_exporter": "python",
   "pygments_lexer": "ipython3",
   "version": "3.8.8"
  }
 },
 "nbformat": 4,
 "nbformat_minor": 5
}
