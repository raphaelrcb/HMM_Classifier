{
 "cells": [
  {
   "cell_type": "markdown",
   "id": "b9b13cea",
   "metadata": {},
   "source": [
    "# Código para a segmentação de dados de um dataframe\n",
    "\n",
    "O primeiro passo é importar os dados de um arquivo .csv\n",
    "\n",
    "O exemplo usado para isso é o arquivo run8.csv, que possui dados emg medidos, além da alguns dados inerciais. \n",
    "Como, por enquanto, só nos interessa o valor EMG medido, ao se ler o csv, utiliza-se apenas as colunas do tempo de medição, que vai servir como índicie, e do emg medido. \n",
    "\n",
    "Utiliza-se uma frequência de 1000Hz para a coleta dos dados, o que fornece 1 amostra por milissegundo. O tempo total da coleta é feito por 21,6 segundos, totalizando 21600 medições. "
   ]
  },
  {
   "cell_type": "code",
   "execution_count": 2,
   "id": "65b34b27",
   "metadata": {},
   "outputs": [
    {
     "data": {
      "text/html": [
       "<div>\n",
       "<style scoped>\n",
       "    .dataframe tbody tr th:only-of-type {\n",
       "        vertical-align: middle;\n",
       "    }\n",
       "\n",
       "    .dataframe tbody tr th {\n",
       "        vertical-align: top;\n",
       "    }\n",
       "\n",
       "    .dataframe thead th {\n",
       "        text-align: right;\n",
       "    }\n",
       "</style>\n",
       "<table border=\"1\" class=\"dataframe\">\n",
       "  <thead>\n",
       "    <tr style=\"text-align: right;\">\n",
       "      <th></th>\n",
       "      <th>Avanti Sensor 1: EMG 1 [V]</th>\n",
       "    </tr>\n",
       "    <tr>\n",
       "      <th>X [s]</th>\n",
       "      <th></th>\n",
       "    </tr>\n",
       "  </thead>\n",
       "  <tbody>\n",
       "    <tr>\n",
       "      <th>0.000</th>\n",
       "      <td>-0.000817</td>\n",
       "    </tr>\n",
       "    <tr>\n",
       "      <th>0.001</th>\n",
       "      <td>-0.004815</td>\n",
       "    </tr>\n",
       "    <tr>\n",
       "      <th>0.002</th>\n",
       "      <td>-0.008836</td>\n",
       "    </tr>\n",
       "    <tr>\n",
       "      <th>0.003</th>\n",
       "      <td>-0.010983</td>\n",
       "    </tr>\n",
       "    <tr>\n",
       "      <th>0.004</th>\n",
       "      <td>-0.010845</td>\n",
       "    </tr>\n",
       "  </tbody>\n",
       "</table>\n",
       "</div>"
      ],
      "text/plain": [
       "       Avanti Sensor 1: EMG 1 [V]\n",
       "X [s]                            \n",
       "0.000                   -0.000817\n",
       "0.001                   -0.004815\n",
       "0.002                   -0.008836\n",
       "0.003                   -0.010983\n",
       "0.004                   -0.010845"
      ]
     },
     "execution_count": 2,
     "metadata": {},
     "output_type": "execute_result"
    }
   ],
   "source": [
    "import numpy as np\n",
    "import pandas as pd\n",
    "from pandas import read_csv\n",
    "\n",
    "series = read_csv('run6.csv', header=32, usecols = [0,1], index_col = 0)\n",
    "series.head()"
   ]
  },
  {
   "cell_type": "markdown",
   "id": "bb7fe0c2",
   "metadata": {},
   "source": [
    "# Indexação dos dados\n",
    "\n",
    "Ao ler o csv, o framework pandas já converte os dados em um DataFrame. Este DataFrame, como visto acima, utiliza como índice o tempo da medição (em ms) e a colunda de dados é a medição EMG (em Volts). \n",
    "\n",
    "Porém, as funções que vão ser usadas a seguir não entendem os valores do índice na forma que foram lidos, e por isso deve-se fazer uma conversão dos dados para que sejam entendidos"
   ]
  },
  {
   "cell_type": "code",
   "execution_count": 3,
   "id": "6422f8e6",
   "metadata": {},
   "outputs": [
    {
     "data": {
      "text/html": [
       "<div>\n",
       "<style scoped>\n",
       "    .dataframe tbody tr th:only-of-type {\n",
       "        vertical-align: middle;\n",
       "    }\n",
       "\n",
       "    .dataframe tbody tr th {\n",
       "        vertical-align: top;\n",
       "    }\n",
       "\n",
       "    .dataframe thead th {\n",
       "        text-align: right;\n",
       "    }\n",
       "</style>\n",
       "<table border=\"1\" class=\"dataframe\">\n",
       "  <thead>\n",
       "    <tr style=\"text-align: right;\">\n",
       "      <th></th>\n",
       "      <th>Avanti Sensor 1: EMG 1 [V]</th>\n",
       "    </tr>\n",
       "    <tr>\n",
       "      <th>X [s]</th>\n",
       "      <th></th>\n",
       "    </tr>\n",
       "  </thead>\n",
       "  <tbody>\n",
       "    <tr>\n",
       "      <th>2021-10-12 10:00:00.000</th>\n",
       "      <td>-0.000817</td>\n",
       "    </tr>\n",
       "    <tr>\n",
       "      <th>2021-10-12 10:00:00.001</th>\n",
       "      <td>-0.004815</td>\n",
       "    </tr>\n",
       "    <tr>\n",
       "      <th>2021-10-12 10:00:00.002</th>\n",
       "      <td>-0.008836</td>\n",
       "    </tr>\n",
       "    <tr>\n",
       "      <th>2021-10-12 10:00:00.003</th>\n",
       "      <td>-0.010983</td>\n",
       "    </tr>\n",
       "    <tr>\n",
       "      <th>2021-10-12 10:00:00.004</th>\n",
       "      <td>-0.010845</td>\n",
       "    </tr>\n",
       "  </tbody>\n",
       "</table>\n",
       "</div>"
      ],
      "text/plain": [
       "                         Avanti Sensor 1: EMG 1 [V]\n",
       "X [s]                                              \n",
       "2021-10-12 10:00:00.000                   -0.000817\n",
       "2021-10-12 10:00:00.001                   -0.004815\n",
       "2021-10-12 10:00:00.002                   -0.008836\n",
       "2021-10-12 10:00:00.003                   -0.010983\n",
       "2021-10-12 10:00:00.004                   -0.010845"
      ]
     },
     "execution_count": 3,
     "metadata": {},
     "output_type": "execute_result"
    }
   ],
   "source": [
    "series.index = pd.to_datetime(series.index, unit = 's', origin= 'unix')\n",
    "series.index = series.index.map(lambda t: t.replace(year=2021, month=10, day=12, hour=10))\n",
    "series.index = pd.DatetimeIndex(series.index).to_period('L')\n",
    "series.head()"
   ]
  },
  {
   "cell_type": "markdown",
   "id": "e9cd6da8",
   "metadata": {},
   "source": [
    "# Segmentação dos Dados\n",
    "\n",
    "$$\n",
    "N\\; janelas = \\frac{tamanho\\: dos\\,dados - tamanho\\, da\\, janela}{incremento\\, da\\,janela} + 1\n",
    "$$"
   ]
  },
  {
   "cell_type": "code",
   "execution_count": 3,
   "id": "e6ccabe7",
   "metadata": {},
   "outputs": [
    {
     "data": {
      "text/html": [
       "<div>\n",
       "<style scoped>\n",
       "    .dataframe tbody tr th:only-of-type {\n",
       "        vertical-align: middle;\n",
       "    }\n",
       "\n",
       "    .dataframe tbody tr th {\n",
       "        vertical-align: top;\n",
       "    }\n",
       "\n",
       "    .dataframe thead th {\n",
       "        text-align: right;\n",
       "    }\n",
       "</style>\n",
       "<table border=\"1\" class=\"dataframe\">\n",
       "  <thead>\n",
       "    <tr style=\"text-align: right;\">\n",
       "      <th></th>\n",
       "      <th>Avanti Sensor 1: EMG 1 [V]</th>\n",
       "    </tr>\n",
       "    <tr>\n",
       "      <th>X [s]</th>\n",
       "      <th></th>\n",
       "    </tr>\n",
       "  </thead>\n",
       "  <tbody>\n",
       "    <tr>\n",
       "      <th>2021-10-12 10:00:00.500</th>\n",
       "      <td>-0.000013</td>\n",
       "    </tr>\n",
       "    <tr>\n",
       "      <th>2021-10-12 10:00:00.501</th>\n",
       "      <td>-0.000010</td>\n",
       "    </tr>\n",
       "    <tr>\n",
       "      <th>2021-10-12 10:00:00.502</th>\n",
       "      <td>0.000000</td>\n",
       "    </tr>\n",
       "    <tr>\n",
       "      <th>2021-10-12 10:00:00.503</th>\n",
       "      <td>-0.000008</td>\n",
       "    </tr>\n",
       "    <tr>\n",
       "      <th>2021-10-12 10:00:00.504</th>\n",
       "      <td>-0.000023</td>\n",
       "    </tr>\n",
       "    <tr>\n",
       "      <th>...</th>\n",
       "      <td>...</td>\n",
       "    </tr>\n",
       "    <tr>\n",
       "      <th>2021-10-12 10:00:00.745</th>\n",
       "      <td>0.009666</td>\n",
       "    </tr>\n",
       "    <tr>\n",
       "      <th>2021-10-12 10:00:00.746</th>\n",
       "      <td>0.010226</td>\n",
       "    </tr>\n",
       "    <tr>\n",
       "      <th>2021-10-12 10:00:00.747</th>\n",
       "      <td>0.010154</td>\n",
       "    </tr>\n",
       "    <tr>\n",
       "      <th>2021-10-12 10:00:00.748</th>\n",
       "      <td>0.009951</td>\n",
       "    </tr>\n",
       "    <tr>\n",
       "      <th>2021-10-12 10:00:00.749</th>\n",
       "      <td>0.008930</td>\n",
       "    </tr>\n",
       "  </tbody>\n",
       "</table>\n",
       "<p>250 rows × 1 columns</p>\n",
       "</div>"
      ],
      "text/plain": [
       "                         Avanti Sensor 1: EMG 1 [V]\n",
       "X [s]                                              \n",
       "2021-10-12 10:00:00.500                   -0.000013\n",
       "2021-10-12 10:00:00.501                   -0.000010\n",
       "2021-10-12 10:00:00.502                    0.000000\n",
       "2021-10-12 10:00:00.503                   -0.000008\n",
       "2021-10-12 10:00:00.504                   -0.000023\n",
       "...                                             ...\n",
       "2021-10-12 10:00:00.745                    0.009666\n",
       "2021-10-12 10:00:00.746                    0.010226\n",
       "2021-10-12 10:00:00.747                    0.010154\n",
       "2021-10-12 10:00:00.748                    0.009951\n",
       "2021-10-12 10:00:00.749                    0.008930\n",
       "\n",
       "[250 rows x 1 columns]"
      ]
     },
     "execution_count": 3,
     "metadata": {},
     "output_type": "execute_result"
    }
   ],
   "source": [
    "# osw = series.rollling(window = 5, step = 2)\n",
    "# series.rolling(window = 5).\n",
    "data_size = len(series)\n",
    "window_size = 250\n",
    "window_overlap = 50\n",
    "\n",
    "n_windows = (data_size - window_size)/window_overlap + 1\n",
    "\n",
    "# osw = series.copy()\n",
    "# osw2 = osw[1:5]\n",
    "# osw2\n",
    "# print(data_size, window_size, window_overlap, n_windows)\n",
    "osw = []\n",
    "for i in range(int(n_windows)):\n",
    "    osw.append( series[(i*window_overlap):(i*window_overlap + window_size)])\n",
    "\n",
    "osw[10]"
   ]
  },
  {
   "cell_type": "code",
   "execution_count": 4,
   "id": "110037df",
   "metadata": {},
   "outputs": [
    {
     "data": {
      "text/plain": [
       "<matplotlib.legend.Legend at 0x7f3d3701dd60>"
      ]
     },
     "execution_count": 4,
     "metadata": {},
     "output_type": "execute_result"
    },
    {
     "data": {
      "image/png": "[encoded data removed]",
      "text/plain": [
       "<Figure size 432x288 with 1 Axes>"
      ]
     },
     "metadata": {
      "needs_background": "light"
     },
     "output_type": "display_data"
    }
   ],
   "source": [
    "%matplotlib inline\n",
    "from matplotlib import pyplot\n",
    "series.plot()\n",
    "pyplot.legend(['EMG (v)'])"
   ]
  },
  {
   "cell_type": "markdown",
   "id": "f0663f8f",
   "metadata": {},
   "source": [
    "# Teste ADFULLER para testar estacionaridade"
   ]
  },
  {
   "cell_type": "code",
   "execution_count": null,
   "id": "5738fefa",
   "metadata": {},
   "outputs": [],
   "source": [
    "from statsmodels.tsa.stattools import adfuller\n",
    "from numpy import log\n",
    "result = adfuller(osw[21].values)\n",
    "print('ADF Statistic: %f' % result[0])\n",
    "print('p-value: %f' % result[1])"
   ]
  },
  {
   "cell_type": "markdown",
   "id": "3e0448e1",
   "metadata": {},
   "source": [
    "# Contruindo modelo ARIMA"
   ]
  },
  {
   "cell_type": "code",
   "execution_count": 6,
   "id": "8c8fdf9e",
   "metadata": {},
   "outputs": [
    {
     "name": "stdout",
     "output_type": "stream",
     "text": [
      "                                   SARIMAX Results                                    \n",
      "======================================================================================\n",
      "Dep. Variable:     Avanti Sensor 1: EMG 1 [V]   No. Observations:                  250\n",
      "Model:                         ARIMA(4, 0, 0)   Log Likelihood                1403.670\n",
      "Date:                        Fri, 15 Oct 2021   AIC                          -2795.340\n",
      "Time:                                17:16:51   BIC                          -2774.211\n",
      "Sample:                            10-12-2021   HQIC                         -2786.836\n",
      "                                 - 10-12-2021                                         \n",
      "Covariance Type:                          opg                                         \n",
      "==============================================================================\n",
      "                 coef    std err          z      P>|z|      [0.025      0.975]\n",
      "------------------------------------------------------------------------------\n",
      "const          0.0002      0.001      0.204      0.838      -0.002       0.002\n",
      "ar.L1          1.5806      0.045     35.247      0.000       1.493       1.668\n",
      "ar.L2         -0.8105      0.081     -9.971      0.000      -0.970      -0.651\n",
      "ar.L3          0.2801      0.079      3.541      0.000       0.125       0.435\n",
      "ar.L4         -0.1109      0.047     -2.372      0.018      -0.203      -0.019\n",
      "sigma2      7.592e-07   2.83e-08     26.847      0.000    7.04e-07    8.15e-07\n",
      "===================================================================================\n",
      "Ljung-Box (L1) (Q):                   0.02   Jarque-Bera (JB):              1727.71\n",
      "Prob(Q):                              0.88   Prob(JB):                         0.00\n",
      "Heteroskedasticity (H):            3950.30   Skew:                            -0.55\n",
      "Prob(H) (two-sided):                  0.00   Kurtosis:                        15.83\n",
      "===================================================================================\n",
      "\n",
      "Warnings:\n",
      "[1] Covariance matrix calculated using the outer product of gradients (complex-step).\n"
     ]
    }
   ],
   "source": [
    "from statsmodels.tsa.arima.model import ARIMA\n",
    "model = ARIMA(osw[10], order = (4,0,0))\n",
    "model_fit = model.fit()\n",
    "print(model_fit.summary())"
   ]
  },
  {
   "cell_type": "markdown",
   "id": "96be7ab7",
   "metadata": {},
   "source": [
    "# Plotando erros residuais"
   ]
  },
  {
   "cell_type": "code",
   "execution_count": null,
   "id": "333d96ed",
   "metadata": {},
   "outputs": [],
   "source": [
    "# Plot residual errors\n",
    "residuals = pd.DataFrame(model_fit.resid)\n",
    "fig, ax = pyplot.subplots(1,2)\n",
    "residuals.plot(title=\"Residuals\", ax=ax[0])\n",
    "residuals.plot(kind='kde', title='Density', ax=ax[1])\n",
    "pyplot.show()"
   ]
  },
  {
   "cell_type": "markdown",
   "id": "8c8b0f0d",
   "metadata": {},
   "source": [
    "# Predição"
   ]
  },
  {
   "cell_type": "code",
   "execution_count": 5,
   "id": "023a275a",
   "metadata": {},
   "outputs": [
    {
     "ename": "NameError",
     "evalue": "name 'pyplot' is not defined",
     "output_type": "error",
     "traceback": [
      "\u001b[0;31m---------------------------------------------------------------------------\u001b[0m",
      "\u001b[0;31mNameError\u001b[0m                                 Traceback (most recent call last)",
      "\u001b[0;32m<ipython-input-5-e92a6367f93a>\u001b[0m in \u001b[0;36m<module>\u001b[0;34m\u001b[0m\n\u001b[1;32m      1\u001b[0m \u001b[0;31m# Actual vs Fitted\u001b[0m\u001b[0;34m\u001b[0m\u001b[0;34m\u001b[0m\u001b[0;34m\u001b[0m\u001b[0m\n\u001b[1;32m      2\u001b[0m \u001b[0mmodel_fit\u001b[0m\u001b[0;34m.\u001b[0m\u001b[0mplot_predict\u001b[0m\u001b[0;34m(\u001b[0m\u001b[0mdynamic\u001b[0m\u001b[0;34m=\u001b[0m\u001b[0;32mFalse\u001b[0m\u001b[0;34m)\u001b[0m\u001b[0;34m\u001b[0m\u001b[0;34m\u001b[0m\u001b[0m\n\u001b[0;32m----> 3\u001b[0;31m \u001b[0mpyplot\u001b[0m\u001b[0;34m.\u001b[0m\u001b[0mshow\u001b[0m\u001b[0;34m(\u001b[0m\u001b[0;34m)\u001b[0m\u001b[0;34m\u001b[0m\u001b[0;34m\u001b[0m\u001b[0m\n\u001b[0m\u001b[1;32m      4\u001b[0m \u001b[0;34m\u001b[0m\u001b[0m\n\u001b[1;32m      5\u001b[0m \u001b[0;31m# import statsmodels\u001b[0m\u001b[0;34m\u001b[0m\u001b[0;34m\u001b[0m\u001b[0;34m\u001b[0m\u001b[0m\n",
      "\u001b[0;31mNameError\u001b[0m: name 'pyplot' is not defined"
     ]
    },
    {
     "data": {
      "image/png": "[encoded data removed]",
      "text/plain": [
       "<Figure size 432x288 with 1 Axes>"
      ]
     },
     "metadata": {
      "needs_background": "light"
     },
     "output_type": "display_data"
    }
   ],
   "source": [
    "\n",
    "\n",
    "# Actual vs Fitted\n",
    "model_fit.plot_predict(dynamic=False)\n",
    "pyplot.show()\n",
    "\n",
    "# import statsmodels\n",
    "# statsmodels.__version__\n",
    "\n"
   ]
  },
  {
   "cell_type": "code",
   "execution_count": 7,
   "id": "5288198c",
   "metadata": {},
   "outputs": [
    {
     "name": "stdout",
     "output_type": "stream",
     "text": [
      "[array([ 1.        , -1.58058025,  0.81049699, -0.28006644,  0.1108924 ])]\n"
     ]
    }
   ],
   "source": [
    "feature_vector = []\n",
    "feature_vector.append(model_fit.polynomial_ar)\n",
    "# feature_vector = np.delete(feature_vector, 0)\n",
    "# feature_vector = -feature_vector\n",
    "# np.delete(model_fit.polynomial_ar, 0)\n",
    "print(feature_vector)"
   ]
  },
  {
   "cell_type": "code",
   "execution_count": null,
   "id": "363ee3b2",
   "metadata": {},
   "outputs": [],
   "source": [
    "%lsmagic"
   ]
  }
 ],
 "metadata": {
  "kernelspec": {
   "display_name": "Python 3",
   "language": "python",
   "name": "python3"
  },
  "language_info": {
   "codemirror_mode": {
    "name": "ipython",
    "version": 3
   },
   "file_extension": ".py",
   "mimetype": "text/x-python",
   "name": "python",
   "nbconvert_exporter": "python",
   "pygments_lexer": "ipython3",
   "version": "3.8.8"
  }
 },
 "nbformat": 4,
 "nbformat_minor": 5
}
