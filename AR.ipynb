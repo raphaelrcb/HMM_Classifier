{
 "cells": [
  {
   "cell_type": "markdown",
   "id": "b9b13cea",
   "metadata": {},
   "source": [
    "# Código para a segmentação de dados de um dataframe\n",
    "\n",
    "O primeiro passo é importar os dados de um arquivo .csv\n",
    "\n",
    "O exemplo usado para isso é o arquivo run8.csv, que possui dados emg medidos, além da alguns dados inerciais. \n",
    "Como, por enquanto, só nos interessa o valor EMG medido, ao se ler o csv, utiliza-se apenas as colunas do tempo de medição, que vai servir como índicie, e do emg medido. \n",
    "\n",
    "Utiliza-se uma frequência de 1000Hz para a coleta dos dados, o que fornece 1 amostra por milissegundo. O tempo total da coleta é feito por 21,6 segundos, totalizando 21600 medições. "
   ]
  },
  {
   "cell_type": "code",
   "execution_count": null,
   "id": "65b34b27",
   "metadata": {},
   "outputs": [],
   "source": [
    "import numpy as np\n",
    "import pandas as pd\n",
    "from pandas import read_csv\n",
    "# series = read_csv('/home/raphael/Desktop/TCC_UnB/data/run8.csv', header=46, usecols = [0,1], index_col = 0) \n",
    "# series = read_csv('/home/raphael/Desktop/TCC_UnB/data/run6.csv', header=32, usecols = [0,1], index_col = 0)\n",
    "# series = read_csv('/home/raphael/Desktop/TCC_UnB/data/train/close_hand_1.csv', header=1, usecols = [0,1], index_col = 0)\n",
    "series = read_csv('https://raw.githubusercontent.com/raphaelrcb/TCC_UnB/raphael_dev/data/gesture_1_1.csv', header=1, usecols = [0,1], index_col = 0)\n",
    "series.head()"
   ]
  },
  {
   "cell_type": "markdown",
   "id": "bb7fe0c2",
   "metadata": {},
   "source": [
    "# Indexação dos dados\n",
    "\n",
    "Ao ler o csv, o framework pandas já converte os dados em um DataFrame. Este DataFrame, como visto acima, utiliza como índice o tempo da medição (em ms) e a colunda de dados é a medição EMG (em Volts). \n",
    "\n",
    "Porém, as funções que vão ser usadas a seguir não entendem os valores do índice na forma que foram lidos, e por isso deve-se fazer uma conversão dos dados para que sejam entendidos"
   ]
  },
  {
   "cell_type": "code",
   "execution_count": null,
   "id": "6422f8e6",
   "metadata": {},
   "outputs": [],
   "source": [
    "series.index = pd.to_datetime(series.index, unit = 's', origin= 'unix')\n",
    "series.index = series.index.map(lambda t: t.replace(year=2021, month=10, day=12, hour=10))\n",
    "series.index = pd.DatetimeIndex(series.index).to_period('L') \n",
    "series.head()\n"
   ]
  },
  {
   "cell_type": "markdown",
   "id": "e9cd6da8",
   "metadata": {},
   "source": [
    "# Segmentação dos Dados\n",
    "\n",
    "$$\n",
    "N\\; janelas = \\frac{tamanho\\: dos\\,dados - tamanho\\, da\\, janela}{incremento\\, da\\,janela} + 1\n",
    "$$"
   ]
  },
  {
   "cell_type": "code",
   "execution_count": null,
   "id": "e6ccabe7",
   "metadata": {},
   "outputs": [],
   "source": [
    "data_size = len(series)\n",
    "window_size = 150\n",
    "window_overlap = 50\n",
    "\n",
    "n_windows = (data_size - window_size)/window_overlap + 1\n",
    "\n",
    "osw = []\n",
    "for i in range(int(n_windows)):\n",
    "    osw.append( series[(i*window_overlap):(i*window_overlap + window_size)])\n"
   ]
  },
  {
   "cell_type": "code",
   "execution_count": null,
   "id": "110037df",
   "metadata": {},
   "outputs": [],
   "source": [
    "%matplotlib inline\n",
    "from matplotlib import pyplot\n",
    "series.plot()\n",
    "pyplot.legend(['EMG (v)'])"
   ]
  },
  {
   "cell_type": "markdown",
   "id": "f0663f8f",
   "metadata": {},
   "source": [
    "# Teste ADFULLER para testar estacionaridade"
   ]
  },
  {
   "cell_type": "code",
   "execution_count": null,
   "id": "5738fefa",
   "metadata": {},
   "outputs": [],
   "source": [
    "from statsmodels.tsa.stattools import adfuller\n",
    "from numpy import log\n",
    "result = adfuller(series.values)\n",
    "print('ADF Statistic: %f' % result[0])\n",
    "print('p-value: %f' % result[1])"
   ]
  },
  {
   "cell_type": "markdown",
   "id": "3e0448e1",
   "metadata": {},
   "source": [
    "# Contruindo modelo ARIMA"
   ]
  },
  {
   "cell_type": "code",
   "execution_count": null,
   "id": "8c8fdf9e",
   "metadata": {},
   "outputs": [],
   "source": [
    "# from statsmodels.tsa.arima_model import ARIMA\n",
    "from statsmodels.tsa.arima.model import ARIMA\n",
    "model = ARIMA(osw[51], order = (4,0,0))\n",
    "model_fit = model.fit()\n",
    "print(model_fit.summary())"
   ]
  },
  {
   "cell_type": "markdown",
   "id": "96be7ab7",
   "metadata": {},
   "source": [
    "# Plotando erros residuais"
   ]
  },
  {
   "cell_type": "code",
   "execution_count": null,
   "id": "333d96ed",
   "metadata": {},
   "outputs": [],
   "source": [
    "# Plot residual errors\n",
    "residuals = pd.DataFrame(model_fit.resid)\n",
    "fig, ax = pyplot.subplots(1,2)\n",
    "residuals.plot(title=\"Residuals\", ax=ax[0])\n",
    "residuals.plot(kind='kde', title='Density', ax=ax[1])\n",
    "pyplot.show()"
   ]
  },
  {
   "cell_type": "markdown",
   "id": "8c8b0f0d",
   "metadata": {},
   "source": [
    "# Predição"
   ]
  },
  {
   "cell_type": "code",
   "execution_count": null,
   "id": "023a275a",
   "metadata": {},
   "outputs": [],
   "source": [
    "\n",
    "\n",
    "# Actual vs Fitted\n",
    "# Uses older version of statsmodel\n",
    "model_fit.plot_predict(dynamic=False)\n",
    "pyplot.show()"
   ]
  },
  {
   "cell_type": "code",
   "execution_count": null,
   "id": "5288198c",
   "metadata": {},
   "outputs": [],
   "source": [
    "feature_vector = []\n",
    "feature_vector.append(model_fit.polynomial_ar)\n",
    "feature_vector = np.delete(feature_vector, 0)\n",
    "feature_vector = -feature_vector\n",
    "np.delete(model_fit.polynomial_ar, 0)\n",
    "print(feature_vector)"
   ]
  },
  {
   "cell_type": "code",
   "execution_count": null,
   "id": "363ee3b2",
   "metadata": {},
   "outputs": [],
   "source": [
    "from statsmodels.tsa.stattools import acf \n",
    "\n",
    "#Separar dados em treinamento e teste\n",
    "treino = osw[51][:140]\n",
    "teste = osw[51][140:]\n",
    "treino.head()\n",
    "# teste.head()\n",
    "\n",
    "#Construir Modelo\n",
    "modelo = ARIMA(treino, order=(4,0,0))\n",
    "ajuste = modelo.fit()\n",
    "\n",
    "#Forecast\n",
    "fc = ajuste.get_forecast(10)\n",
    "fc_series = fc.predicted_mean\n",
    "\n",
    "#build confiance interval \n",
    "fc_conf = fc.conf_int(alpha=0.05)\n",
    "conf_low = pd.DataFrame(fc_conf[fc_conf.columns[0]])\n",
    "conf_upp = pd.DataFrame(fc_conf[fc_conf.columns[1]])\n",
    "\n",
    "\n",
    "#Plot\n",
    "\n",
    "# x = np.arange(0, (len(treino)+len(teste)), 1)\n",
    "# fig, ax = pyplot.subplots(1,1)\n",
    "# ax.plot(x,treino.values)\n",
    "\n",
    "# pd.plotting.register_matplotlib_converters()\n",
    "# pyplot.figure(figsize=(12,5), dpi=100)\n",
    "ax = treino.plot( figsize=(12,5))\n",
    "teste.plot(ax=ax)\n",
    "fc_series.plot(ax=ax, legend = 'forecast')\n",
    "conf_low.plot(ax=ax)\n",
    "conf_upp.plot(ax=ax)\n",
    "# pyplot.plot(treino, label='treinamento')\n",
    "# treino.plot(label = \"treinamento\")\n",
    "# teste.plot(label = \"teste\")\n",
    "# pyplot.plot(teste, label='real')\n",
    "# pyplot.plot(fc_series, label='forecast')\n",
    "# pyplot.fill_between(conf_low.index, conf_low, conf_upp, color='k', alpha=.15)\n",
    "# pyplot.title(\"Previsão vs Real\")\n",
    "# pyplot.legend(loc='upper left', fontsize=8)\n",
    "pyplot.show()"
   ]
  }
 ],
 "metadata": {
  "interpreter": {
   "hash": "b26c1eb2a810f0c5beda14191808156538a38e59a37c249b4b0171afbb5559fd"
  },
  "kernelspec": {
   "display_name": "Python 3.6.9 64-bit ('venv': venv)",
   "name": "python3"
  },
  "language_info": {
   "codemirror_mode": {
    "name": "ipython",
    "version": 3
   },
   "file_extension": ".py",
   "mimetype": "text/x-python",
   "name": "python",
   "nbconvert_exporter": "python",
   "pygments_lexer": "ipython3",
   "version": "3.6.9"
  }
 },
 "nbformat": 4,
 "nbformat_minor": 5
}
